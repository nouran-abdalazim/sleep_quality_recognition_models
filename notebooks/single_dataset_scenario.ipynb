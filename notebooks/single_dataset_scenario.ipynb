{
 "cells": [
  {
   "cell_type": "markdown",
   "metadata": {},
   "source": [
    "# Explore Personalization Using Multi-Dataset\n",
    "\n",
    "#### In this notebook, we explore the impact of using three datasets (M2sleep, HeartS, BiheartS) in model personlization. The three datasets are collected in the wild, through different longitudinal data collection campaigns.\n",
    "\n",
    "#### - The three datasets use Empatica E4 wristband device, to collect several physiological signals (BVP, EDA, TEMP)\n",
    "\n",
    "#### - In this notebook, we are going to explore the impact of dataset bias on the personlization sleep quality recognition task \n",
    "\n",
    "#### - To this goal, we are going to compare three machine learning model (population model, one-user-only model, and personalized model) using \n",
    "\n",
    "##### ***1. Single dataset***\n",
    "\n",
    "##### ***2. Mutiple datasets***\n",
    "\n",
    "##### ***2. Mixed datasets***\n",
    "\n",
    "#### In this notebook, we implement the ***Single dataset*** scenario with the prequential and the holdout evaluation methods\n"
   ]
  },
  {
   "cell_type": "markdown",
   "metadata": {},
   "source": [
    "### 0. Load packages"
   ]
  },
  {
   "cell_type": "code",
   "execution_count": null,
   "metadata": {},
   "outputs": [],
   "source": [
    "from sys import path \n",
    "path.append(\"../\")\n",
    "from source.models.prequential_online_learning import PrequentialOnlineLearning as PrequentialOnlineLearning\n",
    "from source.utils.helper_functions import visualize_models_results\n",
    "import pandas as pd\n",
    "import numpy as np\n",
    "import warnings\n",
    "import matplotlib.pyplot as plt\n",
    "\n",
    "\n",
    "warnings.filterwarnings(\"ignore\")\n",
    "\n",
    "# Generate a list of 50 unique integers to use as seeds\n",
    "seed_list = np.arange(50)  # Create an array with integers from 0 to 49\n",
    "# Convert to list\n",
    "seed_list = seed_list.tolist()\n",
    "\n",
    "\n"
   ]
  },
  {
   "cell_type": "markdown",
   "metadata": {},
   "source": []
  },
  {
   "cell_type": "code",
   "execution_count": null,
   "metadata": {},
   "outputs": [],
   "source": []
  }
 ],
 "metadata": {
  "kernelspec": {
   "display_name": ".env",
   "language": "python",
   "name": "python3"
  },
  "language_info": {
   "name": "python",
   "version": "3.11.9"
  }
 },
 "nbformat": 4,
 "nbformat_minor": 2
}
